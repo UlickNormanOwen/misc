{
 "cells": [
  {
   "cell_type": "markdown",
   "metadata": {},
   "source": [
    "See https://doc.sagemath.org/html/en/reference/function_fields/sage/rings/function_field/function_field.html"
   ]
  },
  {
   "cell_type": "code",
   "execution_count": 11,
   "metadata": {},
   "outputs": [],
   "source": [
    "K = GF(5)  # proof by example...\n",
    "a = K(0); b = K(1)  # b, a^2 - 4b squares\n",
    "E.<u> = FunctionField(K)\n",
    "_.<v> = E[]\n",
    "F.<v> = E.extension(v^2 - u^3 + 2*a*u^2 - (a^2 - 4*b)*u)\n",
    "_.<x> = F[]\n",
    "F_prime.<x> = F.extension(x^2 + (a-u)*x + b)\n",
    "y = v*x^2/(b-x^2)\n",
    "assert u == (y/x)^2\n",
    "assert v == y*(b-x^2)/x^2\n",
    "t = y/x\n",
    "s = (b-x^2)/x\n",
    "assert y^2 == x^3 + a*x^2 + b*x\n",
    "assert s^2 == t^4 - 2*a*t^2 + (a^2 - 4*b)\n",
    "assert v^2 == u^3 - 2*a*u^2 + (a^2 - 4*b)*u"
   ]
  },
  {
   "cell_type": "code",
   "execution_count": 12,
   "metadata": {},
   "outputs": [
    {
     "data": {
      "text/plain": [
       "-2*Place (1/u, 1/u^2*v)\n",
       " + 2*Place (u, v)"
      ]
     },
     "execution_count": 12,
     "metadata": {},
     "output_type": "execute_result"
    }
   ],
   "source": [
    "F(u).divisor()  # Part B, Exercise 2(a)"
   ]
  },
  {
   "cell_type": "code",
   "execution_count": 13,
   "metadata": {},
   "outputs": [],
   "source": [
    "# F_prime(x).divisor()  # WHY DOES THIS THROW AN ERROR?"
   ]
  },
  {
   "cell_type": "code",
   "execution_count": null,
   "metadata": {},
   "outputs": [],
   "source": []
  }
 ],
 "metadata": {
  "kernelspec": {
   "display_name": "SageMath 10.4",
   "language": "sage",
   "name": "sagemath"
  },
  "language_info": {
   "codemirror_mode": {
    "name": "ipython",
    "version": 3
   },
   "file_extension": ".py",
   "mimetype": "text/x-python",
   "name": "python",
   "nbconvert_exporter": "python",
   "pygments_lexer": "ipython3",
   "version": "3.12.3"
  }
 },
 "nbformat": 4,
 "nbformat_minor": 2
}
